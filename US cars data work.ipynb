{
 "cells": [
  {
   "cell_type": "code",
   "execution_count": 1,
   "metadata": {},
   "outputs": [
    {
     "data": {
      "text/plain": [
       "(2448, 13)"
      ]
     },
     "execution_count": 1,
     "metadata": {},
     "output_type": "execute_result"
    }
   ],
   "source": [
    "import pandas as pd\n",
    "import numpy as np\n",
    "cars = pd.read_csv(\"../data/cars/USA_cars_datasets.csv\")\n",
    "d = dict(cars.brand.value_counts())\n",
    "remove = [k for k in d if (d[k] < 10)]\n",
    "for k in remove: del d[k]\n",
    "cars = cars[cars['brand'].isin(d)]  \n",
    "cars.head()\n",
    "\n",
    "def conv(s):\n",
    "    n = ''\n",
    "    for i in s:\n",
    "        if i.isdigit():\n",
    "            n += i\n",
    "    if \"day\" in s:\n",
    "        return int(n)*24*60\n",
    "    if \"hour\" in s:\n",
    "        return int(n)*60\n",
    "    if \"minute\" in s:\n",
    "        return int(n)\n",
    "    \n",
    "cars['condition'] = cars['condition'].apply(conv)\n",
    "cars = cars[cars.condition.apply(lambda x: isinstance(x,float))]\n",
    "cars = cars[cars[['price', 'year', 'mileage', 'condition']].notnull().all(1)]\n",
    "cars.shape"
   ]
  },
  {
   "cell_type": "code",
   "execution_count": 2,
   "metadata": {},
   "outputs": [
    {
     "data": {
      "text/html": [
       "<div>\n",
       "<style scoped>\n",
       "    .dataframe tbody tr th:only-of-type {\n",
       "        vertical-align: middle;\n",
       "    }\n",
       "\n",
       "    .dataframe tbody tr th {\n",
       "        vertical-align: top;\n",
       "    }\n",
       "\n",
       "    .dataframe thead th {\n",
       "        text-align: right;\n",
       "    }\n",
       "</style>\n",
       "<table border=\"1\" class=\"dataframe\">\n",
       "  <thead>\n",
       "    <tr style=\"text-align: right;\">\n",
       "      <th></th>\n",
       "      <th>price</th>\n",
       "      <th>year</th>\n",
       "      <th>mileage</th>\n",
       "      <th>condition</th>\n",
       "    </tr>\n",
       "  </thead>\n",
       "  <tbody>\n",
       "    <tr>\n",
       "      <th>1</th>\n",
       "      <td>2899</td>\n",
       "      <td>2011</td>\n",
       "      <td>190552.0</td>\n",
       "      <td>8640.0</td>\n",
       "    </tr>\n",
       "    <tr>\n",
       "      <th>2</th>\n",
       "      <td>5350</td>\n",
       "      <td>2018</td>\n",
       "      <td>39590.0</td>\n",
       "      <td>2880.0</td>\n",
       "    </tr>\n",
       "    <tr>\n",
       "      <th>3</th>\n",
       "      <td>25000</td>\n",
       "      <td>2014</td>\n",
       "      <td>64146.0</td>\n",
       "      <td>1320.0</td>\n",
       "    </tr>\n",
       "    <tr>\n",
       "      <th>4</th>\n",
       "      <td>27700</td>\n",
       "      <td>2018</td>\n",
       "      <td>6654.0</td>\n",
       "      <td>1320.0</td>\n",
       "    </tr>\n",
       "    <tr>\n",
       "      <th>5</th>\n",
       "      <td>5700</td>\n",
       "      <td>2018</td>\n",
       "      <td>45561.0</td>\n",
       "      <td>2880.0</td>\n",
       "    </tr>\n",
       "  </tbody>\n",
       "</table>\n",
       "</div>"
      ],
      "text/plain": [
       "   price  year   mileage  condition\n",
       "1   2899  2011  190552.0     8640.0\n",
       "2   5350  2018   39590.0     2880.0\n",
       "3  25000  2014   64146.0     1320.0\n",
       "4  27700  2018    6654.0     1320.0\n",
       "5   5700  2018   45561.0     2880.0"
      ]
     },
     "execution_count": 2,
     "metadata": {},
     "output_type": "execute_result"
    }
   ],
   "source": [
    "cars2 = cars[['price', 'year', 'mileage', 'condition']]\n",
    "cars2.head()"
   ]
  },
  {
   "cell_type": "code",
   "execution_count": 3,
   "metadata": {},
   "outputs": [],
   "source": [
    "pd.options.mode.chained_assignment = None\n",
    "from sklearn.model_selection import train_test_split\n",
    "train, test = train_test_split(cars2, test_size = 0.2)\n",
    "import statsmodels.api as sm\n",
    "from sklearn.preprocessing import StandardScaler, normalize\n",
    "scale = StandardScaler()\n"
   ]
  },
  {
   "cell_type": "code",
   "execution_count": 20,
   "metadata": {},
   "outputs": [
    {
     "name": "stdout",
     "output_type": "stream",
     "text": [
      "          year   mileage  condition\n",
      "777   0.668215   13532.0      360.0\n",
      "1732  0.668215   11544.0      120.0\n",
      "1648 -0.215218   54984.0     2880.0\n",
      "1209 -1.393129   98470.0     2880.0\n",
      "129   0.079259   59537.0     1260.0\n",
      "...        ...       ...        ...\n",
      "2158  0.668215   26821.0     2880.0\n",
      "2010 -0.509696   62542.0    12960.0\n",
      "572   0.668215   17684.0     2880.0\n",
      "2022 -0.509696  126708.0     1260.0\n",
      "2183  0.373737   41569.0     2880.0\n",
      "\n",
      "[1958 rows x 3 columns]\n"
     ]
    }
   ],
   "source": [
    "X = train[[\"year\", \"mileage\", \"condition\"]]\n",
    "y = train['price']\n",
    "X[[\"year\"]] = scale.transform(X[[\"year\"]].values)\n",
    "print(X)"
   ]
  },
  {
   "cell_type": "code",
   "execution_count": 17,
   "metadata": {
    "scrolled": true
   },
   "outputs": [
    {
     "data": {
      "text/html": [
       "<table class=\"simpletable\">\n",
       "<caption>OLS Regression Results</caption>\n",
       "<tr>\n",
       "  <th>Dep. Variable:</th>          <td>price</td>      <th>  R-squared (uncentered):</th>      <td>   0.507</td> \n",
       "</tr>\n",
       "<tr>\n",
       "  <th>Model:</th>                   <td>OLS</td>       <th>  Adj. R-squared (uncentered):</th> <td>   0.506</td> \n",
       "</tr>\n",
       "<tr>\n",
       "  <th>Method:</th>             <td>Least Squares</td>  <th>  F-statistic:       </th>          <td>   668.9</td> \n",
       "</tr>\n",
       "<tr>\n",
       "  <th>Date:</th>             <td>Fri, 08 May 2020</td> <th>  Prob (F-statistic):</th>          <td>3.70e-299</td>\n",
       "</tr>\n",
       "<tr>\n",
       "  <th>Time:</th>                 <td>13:51:36</td>     <th>  Log-Likelihood:    </th>          <td> -21694.</td> \n",
       "</tr>\n",
       "<tr>\n",
       "  <th>No. Observations:</th>      <td>  1958</td>      <th>  AIC:               </th>          <td>4.339e+04</td>\n",
       "</tr>\n",
       "<tr>\n",
       "  <th>Df Residuals:</th>          <td>  1955</td>      <th>  BIC:               </th>          <td>4.341e+04</td>\n",
       "</tr>\n",
       "<tr>\n",
       "  <th>Df Model:</th>              <td>     3</td>      <th>                     </th>              <td> </td>    \n",
       "</tr>\n",
       "<tr>\n",
       "  <th>Covariance Type:</th>      <td>nonrobust</td>    <th>                     </th>              <td> </td>    \n",
       "</tr>\n",
       "</table>\n",
       "<table class=\"simpletable\">\n",
       "<tr>\n",
       "      <td></td>         <th>coef</th>     <th>std err</th>      <th>t</th>      <th>P>|t|</th>  <th>[0.025</th>    <th>0.975]</th>  \n",
       "</tr>\n",
       "<tr>\n",
       "  <th>year</th>      <td> 9833.9039</td> <td>  411.655</td> <td>   23.889</td> <td> 0.000</td> <td> 9026.576</td> <td> 1.06e+04</td>\n",
       "</tr>\n",
       "<tr>\n",
       "  <th>mileage</th>   <td>    0.1462</td> <td>    0.006</td> <td>   22.802</td> <td> 0.000</td> <td>    0.134</td> <td>    0.159</td>\n",
       "</tr>\n",
       "<tr>\n",
       "  <th>condition</th> <td>    1.5888</td> <td>    0.082</td> <td>   19.467</td> <td> 0.000</td> <td>    1.429</td> <td>    1.749</td>\n",
       "</tr>\n",
       "</table>\n",
       "<table class=\"simpletable\">\n",
       "<tr>\n",
       "  <th>Omnibus:</th>       <td>420.817</td> <th>  Durbin-Watson:     </th> <td>   1.668</td>\n",
       "</tr>\n",
       "<tr>\n",
       "  <th>Prob(Omnibus):</th> <td> 0.000</td>  <th>  Jarque-Bera (JB):  </th> <td>7724.242</td>\n",
       "</tr>\n",
       "<tr>\n",
       "  <th>Skew:</th>          <td> 0.505</td>  <th>  Prob(JB):          </th> <td>    0.00</td>\n",
       "</tr>\n",
       "<tr>\n",
       "  <th>Kurtosis:</th>      <td>12.678</td>  <th>  Cond. No.          </th> <td>8.36e+04</td>\n",
       "</tr>\n",
       "</table><br/><br/>Warnings:<br/>[1] Standard Errors assume that the covariance matrix of the errors is correctly specified.<br/>[2] The condition number is large, 8.36e+04. This might indicate that there are<br/>strong multicollinearity or other numerical problems."
      ],
      "text/plain": [
       "<class 'statsmodels.iolib.summary.Summary'>\n",
       "\"\"\"\n",
       "                                 OLS Regression Results                                \n",
       "=======================================================================================\n",
       "Dep. Variable:                  price   R-squared (uncentered):                   0.507\n",
       "Model:                            OLS   Adj. R-squared (uncentered):              0.506\n",
       "Method:                 Least Squares   F-statistic:                              668.9\n",
       "Date:                Fri, 08 May 2020   Prob (F-statistic):                   3.70e-299\n",
       "Time:                        13:51:36   Log-Likelihood:                         -21694.\n",
       "No. Observations:                1958   AIC:                                  4.339e+04\n",
       "Df Residuals:                    1955   BIC:                                  4.341e+04\n",
       "Df Model:                           3                                                  \n",
       "Covariance Type:            nonrobust                                                  \n",
       "==============================================================================\n",
       "                 coef    std err          t      P>|t|      [0.025      0.975]\n",
       "------------------------------------------------------------------------------\n",
       "year        9833.9039    411.655     23.889      0.000    9026.576    1.06e+04\n",
       "mileage        0.1462      0.006     22.802      0.000       0.134       0.159\n",
       "condition      1.5888      0.082     19.467      0.000       1.429       1.749\n",
       "==============================================================================\n",
       "Omnibus:                      420.817   Durbin-Watson:                   1.668\n",
       "Prob(Omnibus):                  0.000   Jarque-Bera (JB):             7724.242\n",
       "Skew:                           0.505   Prob(JB):                         0.00\n",
       "Kurtosis:                      12.678   Cond. No.                     8.36e+04\n",
       "==============================================================================\n",
       "\n",
       "Warnings:\n",
       "[1] Standard Errors assume that the covariance matrix of the errors is correctly specified.\n",
       "[2] The condition number is large, 8.36e+04. This might indicate that there are\n",
       "strong multicollinearity or other numerical problems.\n",
       "\"\"\""
      ]
     },
     "execution_count": 17,
     "metadata": {},
     "output_type": "execute_result"
    }
   ],
   "source": [
    "est = sm.OLS(y, X).fit()\n",
    "\n",
    "est.summary()\n",
    "\n",
    "\n"
   ]
  },
  {
   "cell_type": "code",
   "execution_count": 6,
   "metadata": {},
   "outputs": [
    {
     "data": {
      "text/plain": [
       "array([array([[41578.60146605]])], dtype=object)"
      ]
     },
     "execution_count": 6,
     "metadata": {},
     "output_type": "execute_result"
    }
   ],
   "source": [
    "est.predict([scale.fit_transform([[2011]]), 190552, 8640])"
   ]
  },
  {
   "cell_type": "code",
   "execution_count": 7,
   "metadata": {
    "scrolled": true
   },
   "outputs": [],
   "source": [
    "def prediction(x,y,z):\n",
    "    x = scale.fit_transform([[x]])\n",
    "    scaled = [x,y,z]\n",
    "    predicted = est.predict(scaled)[0][0][0]\n",
    "    return(predicted)\n",
    "\n",
    "prediction_test = cars2.copy()\n",
    "prediction_test['price2'] = prediction_test.apply(lambda x: prediction(x['year'], x['mileage'], x['condition']), axis=1)\n",
    "prediction_test['residual'] = abs(prediction_test['price'] - prediction_test['price2'])\n",
    "prediction_test = prediction_test.reset_index()\n"
   ]
  },
  {
   "cell_type": "code",
   "execution_count": 9,
   "metadata": {},
   "outputs": [
    {
     "data": {
      "text/plain": [
       "14516.771515167287"
      ]
     },
     "execution_count": 9,
     "metadata": {},
     "output_type": "execute_result"
    }
   ],
   "source": [
    "prediction_test.residual.mean()\n"
   ]
  },
  {
   "cell_type": "code",
   "execution_count": null,
   "metadata": {},
   "outputs": [],
   "source": []
  }
 ],
 "metadata": {
  "kernelspec": {
   "display_name": "Python 3",
   "language": "python",
   "name": "python3"
  },
  "language_info": {
   "codemirror_mode": {
    "name": "ipython",
    "version": 3
   },
   "file_extension": ".py",
   "mimetype": "text/x-python",
   "name": "python",
   "nbconvert_exporter": "python",
   "pygments_lexer": "ipython3",
   "version": "3.7.6"
  }
 },
 "nbformat": 4,
 "nbformat_minor": 4
}
